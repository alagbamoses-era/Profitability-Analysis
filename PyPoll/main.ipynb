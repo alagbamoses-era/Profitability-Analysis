{
 "cells": [
  {
   "cell_type": "code",
   "execution_count": 1,
   "id": "fbe644e0",
   "metadata": {},
   "outputs": [],
   "source": [
    "import os\n",
    "import csv\n",
    "import numpy as np\n",
    "\n",
    "csvpath = os.path.join('resources', 'election_data.csv')"
   ]
  },
  {
   "cell_type": "code",
   "execution_count": 2,
   "id": "b2ae8586",
   "metadata": {},
   "outputs": [
    {
     "name": "stdout",
     "output_type": "stream",
     "text": [
      "<_csv.reader object at 0x000001AD40E274C0>\n"
     ]
    }
   ],
   "source": [
    "with open(csvpath, 'r') as csvfile:\n",
    "    # csv reader specifies delimiter and variable that holds contents\n",
    "    csvreader = csv.reader(csvfile, delimiter = ',')\n",
    "    \n",
    "    print(csvreader)\n",
    "    \n",
    "    # Read the header row first (skip this step if there no header)\n",
    "    \n",
    "    csv_header = next(csvreader)\n",
    "    #print(f\"CSV Header: {csv_header}\")\n",
    "    \n",
    "    # Read each row of data after the headLer\n",
    "    \n",
    "    Candidates = []\n",
    "    TotalVotes = 0\n",
    "    CandidateVotes = {}\n",
    "    \n",
    "    for row in csvreader:\n",
    "        #print(row)\n",
    "        TotalVotes = TotalVotes+1\n",
    "        CandidateName = str(row[2])\n",
    "        if CandidateName in CandidateVotes:\n",
    "            CandidateVotes[CandidateName] = CandidateVotes[CandidateName] + 1\n",
    "        else:\n",
    "            CandidateVotes[CandidateName] = 1\n",
    "        \n",
    "       \n",
    "        # method 1\n",
    "        #if CandidateName not in Candidates:\n",
    "            #Candidates.append(CandidateName)\n",
    "        \n",
    "        # method 2\n",
    "        if Candidates.count(CandidateName) ==0:\n",
    "            Candidates.append(CandidateName)\n",
    "            \n",
    "    \n",
    "    #print((TotalVotes))\n",
    "    #print(Candidates)\n",
    "    #print(Candidates)\n",
    "    #print(CandidateVotes)\n",
    "        "
   ]
  },
  {
   "cell_type": "code",
   "execution_count": 3,
   "id": "57a32f07",
   "metadata": {},
   "outputs": [
    {
     "name": "stdout",
     "output_type": "stream",
     "text": [
      "Khan\n",
      "Correy\n",
      "Li\n",
      "O'Tooley\n"
     ]
    }
   ],
   "source": [
    "# percentage\n",
    "\n",
    "CandidateVotesPercent = {}\n",
    "WinnerName = None\n",
    "WinnerVotes = 0\n",
    "for Cand in Candidates:\n",
    "    print(Cand)\n",
    "    CandVote = CandidateVotes[Cand]\n",
    "    if CandVote > WinnerVotes:\n",
    "        WinnerName = Cand\n",
    "        WinnerVotes = CandVote\n",
    "        \n",
    "        \n",
    "    Percent = format(CandVote/TotalVotes, \"0.3%\")\n",
    "    CandidateVotesPercent[Cand] = Percent\n",
    "\n",
    "#print(CandidateVotesPercent)\n",
    "#print(WinnerName)\n",
    "\n",
    "    "
   ]
  },
  {
   "cell_type": "code",
   "execution_count": 4,
   "id": "5e5a16d3",
   "metadata": {},
   "outputs": [
    {
     "name": "stdout",
     "output_type": "stream",
     "text": [
      "Election Results\n",
      "-------------------------\n",
      "Total Votes: 3521001\n",
      "-------------------------\n",
      "{'Khan': '63.000%', 'Correy': '20.000%', 'Li': '14.000%', \"O'Tooley\": '3.000%'}\n",
      "{'Khan': 2218231, 'Correy': 704200, 'Li': 492940, \"O'Tooley\": 105630}\n",
      "Winner: Khan\n",
      "-------------------------\n"
     ]
    }
   ],
   "source": [
    "print(f\"Election Results\")\n",
    "print(f\"-------------------------\")\n",
    "print(f\"Total Votes:\", TotalVotes)\n",
    "print(f\"-------------------------\")\n",
    "\n",
    "#print(f\"{WinnerName}:  )\n",
    "print(CandidateVotesPercent)\n",
    "print(CandidateVotes)\n",
    "print(f\"Winner: {WinnerName}\")\n",
    "print(f\"-------------------------\")"
   ]
  },
  {
   "cell_type": "code",
   "execution_count": null,
   "id": "9004e864",
   "metadata": {},
   "outputs": [],
   "source": []
  },
  {
   "cell_type": "code",
   "execution_count": null,
   "id": "dcaeb7a2",
   "metadata": {},
   "outputs": [],
   "source": []
  }
 ],
 "metadata": {
  "kernelspec": {
   "display_name": "Python 3",
   "language": "python",
   "name": "python3"
  },
  "language_info": {
   "codemirror_mode": {
    "name": "ipython",
    "version": 3
   },
   "file_extension": ".py",
   "mimetype": "text/x-python",
   "name": "python",
   "nbconvert_exporter": "python",
   "pygments_lexer": "ipython3",
   "version": "3.8.8"
  }
 },
 "nbformat": 4,
 "nbformat_minor": 5
}
