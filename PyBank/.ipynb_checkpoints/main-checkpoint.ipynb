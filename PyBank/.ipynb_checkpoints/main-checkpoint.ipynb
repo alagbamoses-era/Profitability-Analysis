{
 "cells": [
  {
   "cell_type": "code",
   "execution_count": 1,
   "id": "fbe644e0",
   "metadata": {},
   "outputs": [],
   "source": [
    "import os\n",
    "import csv\n",
    "import numpy as np\n",
    "\n",
    "csvpath = os.path.join('resources', 'budget_data.csv')"
   ]
  },
  {
   "cell_type": "code",
   "execution_count": 2,
   "id": "b2ae8586",
   "metadata": {},
   "outputs": [],
   "source": [
    "with open(csvpath, 'r') as csvfile:\n",
    "    # csv reader specifies delimiter and variable that holds contents\n",
    "    csvreader = csv.reader(csvfile, delimiter = ',')\n",
    "    \n",
    "    #print(csvreader)\n",
    "    \n",
    "    # Read the header row first (skip this step if there no header)\n",
    "    \n",
    "    csv_header = next(csvreader)\n",
    "    #print(f\"CSV Header: {csv_header}\")\n",
    "    \n",
    "    # Read each row of data after the header\n",
    "    \n",
    "    TotalMonth = 0\n",
    "    TotalProfitLoss = 0\n",
    "    \n",
    "    ListProfitLoss =[]\n",
    "    ListProfitLossDate = []\n",
    "    \n",
    "    \n",
    "    #['Jan-2010', '867884']\n",
    "    \n",
    "    for row in csvreader:\n",
    "        #print(row)\n",
    "        TotalMonth = TotalMonth + 1\n",
    "        TotalProfitLoss = TotalProfitLoss + int(row[1])\n",
    "        ListProfitLoss.append(int(row[1]))\n",
    "        ListProfitLossDate.append(str(row[0]))\n",
    "        \n"
   ]
  },
  {
   "cell_type": "code",
   "execution_count": 3,
   "id": "1319cd3a",
   "metadata": {},
   "outputs": [
    {
     "name": "stdout",
     "output_type": "stream",
     "text": [
      "86\n",
      "38382578\n",
      "-2315.12\n",
      "1926159\n",
      "-2196167\n"
     ]
    }
   ],
   "source": [
    "#print(TotalMonth)\n",
    "Total_Month = np.sum(TotalMonth)\n",
    "print(f\"{Total_Month}\")\n",
    "#print(TotalProfitLoss)\n",
    "\n",
    "Total_Amount = np.sum(ListProfitLoss)\n",
    "print(Total_Amount)\n",
    "#print(ListProfitLoss)\n",
    "\n",
    "ChangesProfitLoss = []\n",
    "ChangesProfitLossDate = []\n",
    "tf_FirstTime = True\n",
    "Index = 0\n",
    "for item in ListProfitLoss:\n",
    "    if tf_FirstTime:\n",
    "        PreviousItem = item \n",
    "        tf_FirstTime = False\n",
    "    else:\n",
    "        Change = item - PreviousItem\n",
    "        ChangesProfitLoss.append(Change)\n",
    "        ChangesProfitLossDate.append(ListProfitLossDate[Index])\n",
    "        PreviousItem = item\n",
    "    Index = Index + 1\n",
    "\n",
    "#print(ChangesProfitLoss)\n",
    "#print(len(ChangesProfitLoss))\n",
    "\n",
    "#sm = 0\n",
    "#for item in ChangesProfitLoss:\n",
    "    #sm = sm + item\n",
    "\n",
    "\n",
    "sumcpl = np.sum(ChangesProfitLoss)\n",
    "avgcpl = round(np.mean(ChangesProfitLoss),2)\n",
    "maxcpl = np.max(ChangesProfitLoss)\n",
    "mincpl = np.min(ChangesProfitLoss)\n",
    "\n",
    "\n",
    "\n",
    "#print(sm)\n",
    "#print(sm/len(ChangesProfitLoss))\n",
    "\n",
    "\n",
    "#print(sumcpl)\n",
    "print(avgcpl)\n",
    "print(maxcpl)\n",
    "print(mincpl)"
   ]
  },
  {
   "cell_type": "code",
   "execution_count": 4,
   "id": "2ad2e9be",
   "metadata": {},
   "outputs": [],
   "source": [
    "#help(np)"
   ]
  },
  {
   "cell_type": "code",
   "execution_count": 5,
   "id": "0823a359",
   "metadata": {},
   "outputs": [],
   "source": [
    "#print(ChangesProfitLoss.index(-2196167))"
   ]
  },
  {
   "cell_type": "code",
   "execution_count": 6,
   "id": "ba9fb684",
   "metadata": {},
   "outputs": [],
   "source": [
    "PositionProfitLossMax = ChangesProfitLoss.index(maxcpl)\n",
    "PositionProfitLossMin = ChangesProfitLoss.index(mincpl)"
   ]
  },
  {
   "cell_type": "code",
   "execution_count": 7,
   "id": "4ab4811a",
   "metadata": {},
   "outputs": [
    {
     "data": {
      "text/plain": [
       "'Sep-2013'"
      ]
     },
     "execution_count": 7,
     "metadata": {},
     "output_type": "execute_result"
    }
   ],
   "source": [
    "Date_Min = ChangesProfitLossDate[PositionProfitLossMin]\n",
    "Date_Min "
   ]
  },
  {
   "cell_type": "code",
   "execution_count": 8,
   "id": "a3808b98",
   "metadata": {},
   "outputs": [
    {
     "data": {
      "text/plain": [
       "'Feb-2012'"
      ]
     },
     "execution_count": 8,
     "metadata": {},
     "output_type": "execute_result"
    }
   ],
   "source": [
    "Date_Max = ChangesProfitLossDate[PositionProfitLossMax]\n",
    "Date_Max "
   ]
  },
  {
   "cell_type": "code",
   "execution_count": 37,
   "id": "8384bdee",
   "metadata": {},
   "outputs": [
    {
     "name": "stdout",
     "output_type": "stream",
     "text": [
      " Finacial Analysis\n",
      " -------------------\n",
      " Total Months: 86\n",
      " Total: $38382578\n",
      " Average Change: $ -2315.12\n",
      " Great Increase in Profits: Feb-2012--  $1926159\n",
      " Great Decrease in Profits: Sep-2013 --  $-2196167\n"
     ]
    }
   ],
   "source": [
    "# ANALYSIS RESULTS\n",
    "\n",
    "print(f\" Finacial Analysis\")\n",
    "print(f\" -------------------\")\n",
    "print(f\" Total Months: {Total_Month}\")\n",
    "#print(f\" Total : '$' {TotalProfitLoss}\")\n",
    "print(f\" Total: ${Total_Amount}\")\n",
    "print(f\" Average Change: $ {avgcpl}\")\n",
    "print(f\" Great Increase in Profits: {Date_Max}--  ${maxcpl}\")\n",
    "print(f\" Great Decrease in Profits: {Date_Min} --  ${mincpl}\")"
   ]
  },
  {
   "cell_type": "code",
   "execution_count": null,
   "id": "5e5a16d3",
   "metadata": {},
   "outputs": [],
   "source": []
  }
 ],
 "metadata": {
  "kernelspec": {
   "display_name": "Python 3",
   "language": "python",
   "name": "python3"
  },
  "language_info": {
   "codemirror_mode": {
    "name": "ipython",
    "version": 3
   },
   "file_extension": ".py",
   "mimetype": "text/x-python",
   "name": "python",
   "nbconvert_exporter": "python",
   "pygments_lexer": "ipython3",
   "version": "3.8.8"
  }
 },
 "nbformat": 4,
 "nbformat_minor": 5
}
